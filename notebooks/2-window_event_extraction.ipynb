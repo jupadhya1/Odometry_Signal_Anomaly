{
 "cells": [
  {
   "cell_type": "code",
   "execution_count": 1,
   "metadata": {},
   "outputs": [],
   "source": [
    "import pandas as pd\n",
    "import numpy as np\n",
    "import time\n",
    "\n",
    "from glob import glob\n",
    "from tqdm import tqdm_notebook as tqdm\n",
    "\n",
    "import matplotlib.pyplot as plt"
   ]
  },
  {
   "cell_type": "code",
   "execution_count": 2,
   "metadata": {},
   "outputs": [
    {
     "data": {
      "text/html": [
       "<style>.container { width:90% !important; }</style>"
      ],
      "text/plain": [
       "<IPython.core.display.HTML object>"
      ]
     },
     "metadata": {},
     "output_type": "display_data"
    }
   ],
   "source": [
    "from IPython.core.display import display, HTML\n",
    "display(HTML(\"<style>.container { width:90% !important; }</style>\"))\n"
   ]
  },
  {
   "cell_type": "code",
   "execution_count": 3,
   "metadata": {},
   "outputs": [],
   "source": [
    "df_201908 = pd.read_csv(\"201908_window_events.csv\", sep=\";\", usecols=[\"Timestamp\",\"Index\",\"Measured LD\",\"Expected LD\",\"Error (FT)\",\"Error (%)\",\"Vehicle ID\",\"Comment\"])\n",
    "df_201909 = pd.read_csv(\"201909_window_events.csv\", sep=\";\", usecols=[\"Timestamp\",\"Index\",\"Measured LD\",\"Expected LD\",\"Error (FT)\",\"Error (%)\",\"Vehicle ID\",\"Comment\"])\n",
    "df_201910 = pd.read_csv(\"201910_window_events.csv\", sep=\";\", usecols=[\"Timestamp\",\"Index\",\"Measured LD\",\"Expected LD\",\"Error (FT)\",\"Error (%)\",\"Vehicle ID\",\"Comment\"])\n",
    "df_201911 = pd.read_csv(\"201911_window_events.csv\", sep=\";\", usecols=[\"Timestamp\",\"Index\",\"Measured LD\",\"Expected LD\",\"Error (FT)\",\"Error (%)\",\"Vehicle ID\",\"Comment\"])\n",
    "df_201912 = pd.read_csv(\"201912_window_events.csv\", sep=\";\", usecols=[\"TimeStamp\",\"Record Number\",\"Measured LD (ft)\",\"Expected LD (ft)\",\"Error (ft)\",\"Relative Error (%)\",\"VehicleID\",\"Comment\"])\n",
    "df_202001 = pd.read_csv(\"202001_window_events.csv\", sep=\";\", usecols=[\"TimeStamp\",\"Record Number\",\"Measured LD (ft)\",\"Expected LD (ft)\",\"Error (ft)\",\"Relative Error (%)\",\"VehicleID\",\"Comment\"])\n",
    "df_202002 = pd.read_csv(\"202002_window_events.csv\", sep=\";\", usecols=[\"TimeStamp\",\"Record Number\",\"Measured LD (ft)\",\"Expected LD (ft)\",\"Error (ft)\",\"Relative Error (%)\",\"VehicleID\",\"Comment\"])\n",
    "df_202003 = pd.read_csv(\"202003_window_events.csv\", sep=\";\", usecols=[\"TimeStamp\",\"Record Number\",\"Measured LD (ft)\",\"Expected LD (ft)\",\"Error (ft)\",\"Relative Error (%)\",\"VehicleID\",\"Comment\"])"
   ]
  },
  {
   "cell_type": "code",
   "execution_count": 4,
   "metadata": {},
   "outputs": [],
   "source": [
    "df_201908.columns = [\"Timestamp\",\"Record Number\", \"Measured LD (ft)\", \"Expected LD (ft)\", \"Error (ft)\", \"Relative Error (%)\", \"VehicleID\", \"Comment\"]\n",
    "df_201909.columns = [\"Timestamp\",\"Record Number\", \"Measured LD (ft)\", \"Expected LD (ft)\", \"Error (ft)\", \"Relative Error (%)\", \"VehicleID\", \"Comment\"]\n",
    "df_201910.columns = [\"Timestamp\",\"Record Number\", \"Measured LD (ft)\", \"Expected LD (ft)\", \"Error (ft)\", \"Relative Error (%)\", \"VehicleID\", \"Comment\"]\n",
    "df_201911.columns = [\"Timestamp\",\"Record Number\", \"Measured LD (ft)\", \"Expected LD (ft)\", \"Error (ft)\", \"Relative Error (%)\", \"VehicleID\", \"Comment\"]\n",
    "df_201912.columns = [\"Timestamp\",\"Record Number\", \"VehicleID\", \"Expected LD (ft)\", \"Measured LD (ft)\", \"Error (ft)\", \"Relative Error (%)\",  \"Comment\"]\n",
    "df_202001.columns = [\"Timestamp\",\"Record Number\", \"VehicleID\", \"Expected LD (ft)\", \"Measured LD (ft)\", \"Error (ft)\", \"Relative Error (%)\",  \"Comment\"]\n",
    "df_202002.columns = [\"Timestamp\",\"Record Number\", \"VehicleID\", \"Expected LD (ft)\", \"Measured LD (ft)\", \"Error (ft)\", \"Relative Error (%)\",  \"Comment\"]\n",
    "df_202003.columns = [\"Timestamp\",\"Record Number\", \"VehicleID\", \"Expected LD (ft)\", \"Measured LD (ft)\", \"Error (ft)\", \"Relative Error (%)\",  \"Comment\"]"
   ]
  },
  {
   "cell_type": "code",
   "execution_count": 5,
   "metadata": {},
   "outputs": [],
   "source": [
    "dfs = [df_201908, df_201909, df_201910, df_201911, df_201912, df_202001, df_202002, df_202003]\n",
    "df = pd.concat(dfs, sort=True)"
   ]
  },
  {
   "cell_type": "code",
   "execution_count": 6,
   "metadata": {},
   "outputs": [],
   "source": [
    "df.to_csv(\"window_events.csv\", index=False)"
   ]
  },
  {
   "cell_type": "code",
   "execution_count": null,
   "metadata": {},
   "outputs": [],
   "source": []
  }
 ],
 "metadata": {
  "kernelspec": {
   "display_name": "Python 3",
   "language": "python",
   "name": "python3"
  },
  "language_info": {
   "codemirror_mode": {
    "name": "ipython",
    "version": 3
   },
   "file_extension": ".py",
   "mimetype": "text/x-python",
   "name": "python",
   "nbconvert_exporter": "python",
   "pygments_lexer": "ipython3",
   "version": "3.6.9"
  }
 },
 "nbformat": 4,
 "nbformat_minor": 4
}
