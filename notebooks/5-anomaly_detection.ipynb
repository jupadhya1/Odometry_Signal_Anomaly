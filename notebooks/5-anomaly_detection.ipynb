{
 "cells": [
  {
   "cell_type": "code",
   "execution_count": 1,
   "metadata": {},
   "outputs": [],
   "source": [
    "import os\n",
    "\n",
    "import pandas as pd\n",
    "from datetime import datetime\n",
    "\n",
    "import matplotlib.pyplot as plt\n",
    "\n",
    "from glob import glob\n",
    "from tqdm import tqdm_notebook as tqdm\n",
    "\n",
    "import pickle\n",
    "from joblib import dump, load\n",
    "\n",
    "from sklearn.svm import OneClassSVM\n",
    "from sklearn.ensemble import IsolationForest\n",
    "from sklearn.preprocessing import StandardScaler"
   ]
  },
  {
   "cell_type": "code",
   "execution_count": 2,
   "metadata": {},
   "outputs": [],
   "source": [
    "df = pd.read_csv(\"features1min.csv\", index_col=\"Unnamed: 0\")"
   ]
  },
  {
   "cell_type": "code",
   "execution_count": 3,
   "metadata": {},
   "outputs": [],
   "source": [
    "df = df[[\"4018\" in f for f in df.index]].copy()\n",
    "df_nominal = df[df[\"is_nominal\"]]#.drop([\"is_nominal\"], axis=1)\n",
    "df_outlier = df[~df[\"is_nominal\"]]\n"
   ]
  },
  {
   "cell_type": "code",
   "execution_count": 4,
   "metadata": {},
   "outputs": [
    {
     "data": {
      "text/plain": [
       "['4018_2020-02-25--06-58-04567000',\n",
       " '4018_2020-03-16--04-49-06952000',\n",
       " '4018_2020-03-16--04-49-26952000',\n",
       " 'nominal/4018_2020-02-13--03-36-15545000',\n",
       " 'nominal/4018_2020-02-13--03-37-15545000',\n",
       " 'nominal/4018_2020-02-13--03-38-15545000',\n",
       " 'nominal/4018_2020-02-13--03-39-15545000',\n",
       " 'nominal/4018_2020-02-13--03-42-15545000',\n",
       " 'nominal/4018_2020-02-13--03-43-15545000',\n",
       " 'nominal/4018_2020-02-13--03-44-15545000']"
      ]
     },
     "execution_count": 4,
     "metadata": {},
     "output_type": "execute_result"
    }
   ],
   "source": [
    "sorted(df.index)[:10]"
   ]
  },
  {
   "cell_type": "code",
   "execution_count": 5,
   "metadata": {},
   "outputs": [
    {
     "data": {
      "text/plain": [
       "((2586, 40), (3, 40))"
      ]
     },
     "execution_count": 5,
     "metadata": {},
     "output_type": "execute_result"
    }
   ],
   "source": [
    "df_nominal.shape, df_outlier.shape"
   ]
  },
  {
   "cell_type": "code",
   "execution_count": 6,
   "metadata": {},
   "outputs": [],
   "source": [
    "df_nominal = df_nominal.sample(frac=1)\n",
    "\n",
    "frac = 0.8\n",
    "split = int(frac * df_nominal.shape[0])\n",
    "\n",
    "df_train = df_nominal.iloc[:split]\n",
    "df_test = df_nominal.iloc[split:]"
   ]
  },
  {
   "cell_type": "code",
   "execution_count": 7,
   "metadata": {},
   "outputs": [
    {
     "data": {
      "text/plain": [
       "True    518\n",
       "Name: is_nominal, dtype: int64"
      ]
     },
     "execution_count": 7,
     "metadata": {},
     "output_type": "execute_result"
    }
   ],
   "source": [
    "df_test.is_nominal.value_counts()"
   ]
  },
  {
   "cell_type": "code",
   "execution_count": 8,
   "metadata": {},
   "outputs": [],
   "source": [
    "featuresToScale = df_train.drop([\"is_nominal\"], axis=1).columns\n",
    "# sX = StandardScaler(copy=True)\n",
    "# df_train.loc[:,featuresToScale] = sX.fit_transform(df_train[featuresToScale])\n",
    "# df_test.loc[:,featuresToScale]  = sX.fit_transform(df_test[featuresToScale])"
   ]
  },
  {
   "cell_type": "raw",
   "metadata": {},
   "source": [
    "for c in featuresToScale:\n",
    "    plt.figure()\n",
    "    plt.hist(df_train[c])\n",
    "    plt.show()"
   ]
  },
  {
   "cell_type": "code",
   "execution_count": null,
   "metadata": {},
   "outputs": [],
   "source": []
  },
  {
   "cell_type": "code",
   "execution_count": 9,
   "metadata": {},
   "outputs": [],
   "source": [
    "X_train = df_nominal.drop([\"is_nominal\"], axis=1)"
   ]
  },
  {
   "cell_type": "code",
   "execution_count": 10,
   "metadata": {},
   "outputs": [],
   "source": [
    "df_test = pd.concat([df_test, df_outlier])\n",
    "X_test = df_test.drop([\"is_nominal\"], axis=1)\n",
    "y_test = df_test[\"is_nominal\"].copy()"
   ]
  },
  {
   "cell_type": "code",
   "execution_count": 11,
   "metadata": {},
   "outputs": [],
   "source": [
    "# clf = OneClassSVM(kernel=\"linear\", nu=0.05)\n",
    "clf = IsolationForest(n_estimators=1000, contamination=0)"
   ]
  },
  {
   "cell_type": "code",
   "execution_count": 12,
   "metadata": {},
   "outputs": [
    {
     "name": "stderr",
     "output_type": "stream",
     "text": [
      "/opt/conda/lib/python3.6/site-packages/sklearn/ensemble/iforest.py:247: FutureWarning: behaviour=\"old\" is deprecated and will be removed in version 0.22. Please use behaviour=\"new\", which makes the decision_function change to match other anomaly detection algorithm API.\n",
      "  FutureWarning)\n"
     ]
    },
    {
     "data": {
      "text/plain": [
       "IsolationForest(behaviour='old', bootstrap=False, contamination=0,\n",
       "                max_features=1.0, max_samples='auto', n_estimators=1000,\n",
       "                n_jobs=None, random_state=None, verbose=0, warm_start=False)"
      ]
     },
     "execution_count": 12,
     "metadata": {},
     "output_type": "execute_result"
    }
   ],
   "source": [
    "clf.fit(X_train)"
   ]
  },
  {
   "cell_type": "code",
   "execution_count": 13,
   "metadata": {},
   "outputs": [
    {
     "name": "stderr",
     "output_type": "stream",
     "text": [
      "/opt/conda/lib/python3.6/site-packages/ipykernel_launcher.py:3: SettingWithCopyWarning: \n",
      "A value is trying to be set on a copy of a slice from a DataFrame.\n",
      "Try using .loc[row_indexer,col_indexer] = value instead\n",
      "\n",
      "See the caveats in the documentation: http://pandas.pydata.org/pandas-docs/stable/user_guide/indexing.html#returning-a-view-versus-a-copy\n",
      "  This is separate from the ipykernel package so we can avoid doing imports until\n"
     ]
    }
   ],
   "source": [
    "# df_train[\"score\"] = clf.decision_function(df_train[featuresToScale])\n",
    "# df_test[\"score\"]  = clf.decision_function(df_test[featuresToScale])\n",
    "df_train[\"score\"] = clf.score_samples(df_train[featuresToScale])\n",
    "df_test[\"score\"]  = clf.score_samples(df_test[featuresToScale])\n",
    "# score_test_nominal   = clf.decision_function(df_test[df_test[\"is_nominal\"]][featuresToScale])\n",
    "# score_test_anomalous = clf.decision_function(df_test[~df_test[\"is_nominal\"]][featuresToScale])"
   ]
  },
  {
   "cell_type": "code",
   "execution_count": 20,
   "metadata": {},
   "outputs": [
    {
     "data": {
      "image/png": "[encoded data removed]",
      "text/plain": [
       "<Figure size 432x288 with 1 Axes>"
      ]
     },
     "metadata": {
      "needs_background": "light"
     },
     "output_type": "display_data"
    }
   ],
   "source": [
    "r = (pd.concat([df_train.score,df_test.score]).min(), pd.concat([df_train.score,df_test.score]).max())\n",
    "a = 0.3\n",
    "d = True\n",
    "\n",
    "plt.figure()\n",
    "plt.hist(df_train[\"score\"],                        bins=50, range=r, alpha=a, density=d, label=\"train\")\n",
    "plt.hist(df_test[df_test[\"is_nominal\"]][\"score\"],  bins=50, range=r, alpha=a, density=d, label=\"test nominal\")\n",
    "plt.hist(df_test[~df_test[\"is_nominal\"]][\"score\"], bins=50, range=r, alpha=a, density=d, label=\"test anomalous\")\n",
    "plt.legend()\n",
    "plt.show()"
   ]
  },
  {
   "cell_type": "raw",
   "metadata": {},
   "source": [
    "\n",
    "from sklearn.preprocessing import MinMaxScaler\n",
    "\n",
    "\n",
    "scaler = MinMaxScaler()\n",
    "df_train[\"score\"] = scaler.fit_transform(df_train[\"score\"].values.reshape(-1,1)).ravel()\n",
    "df_test[\"score\"]  = scaler.transform(df_test[\"score\"].values.reshape(-1,1)).ravel()\n",
    "\n",
    "r = (df_test.score.min(), df_test.score.max())\n",
    "# r = (-1,1)\n",
    "print(r)\n",
    "a = 0.3\n",
    "d = True\n",
    "\n",
    "print(df_test[~df_test[\"is_nominal\"]][\"score\"])\n",
    "plt.figure()\n",
    "plt.hist(df_train[\"score\"],                        bins=50, range=r, alpha=a, density=d, label=\"train\")\n",
    "plt.hist(df_test[df_test[\"is_nominal\"]][\"score\"],  bins=50, range=r, alpha=a, density=d, label=\"test nominal\")\n",
    "plt.hist(df_test[~df_test[\"is_nominal\"]][\"score\"], bins=50, range=r, alpha=a, density=d, label=\"test anomalous\")\n",
    "plt.legend()\n",
    "plt.show()"
   ]
  },
  {
   "cell_type": "code",
   "execution_count": 15,
   "metadata": {},
   "outputs": [
    {
     "name": "stdout",
     "output_type": "stream",
     "text": [
      "-0.9011468765634869 -0.3994004115307665\n"
     ]
    }
   ],
   "source": [
    "nominal = df_test[df_test[\"is_nominal\"]]\n",
    "anomaly = df_test[~df_test[\"is_nominal\"]]\n",
    "\n",
    "NSTEPS = 500\n",
    "\n",
    "tns, tps, fns, fps = np.empty(NSTEPS), np.empty(NSTEPS), np.empty(NSTEPS), np.empty(NSTEPS)\n",
    "thresholds = np.empty(NSTEPS)\n",
    "\n",
    "low = df_test[\"score\"].min()*1.2\n",
    "high = df_test[\"score\"].max()*1.2\n",
    "\n",
    "print(low, high)\n",
    "for i,t in enumerate(np.linspace(low, high, NSTEPS)):\n",
    "#     print(t)\n",
    "    tn = nominal[nominal[\"score\"] >= t].shape[0]\n",
    "    tp = anomaly[anomaly[\"score\"] < t].shape[0]\n",
    "    fn = anomaly[anomaly[\"score\"] >= t].shape[0]\n",
    "    fp = nominal[nominal[\"score\"] < t].shape[0]\n",
    "\n",
    "    tns[i] = tn\n",
    "    tps[i] = tp\n",
    "    fns[i] = fn\n",
    "    fps[i] = fp\n",
    "    thresholds[i] = t"
   ]
  },
  {
   "cell_type": "code",
   "execution_count": 16,
   "metadata": {},
   "outputs": [
    {
     "name": "stderr",
     "output_type": "stream",
     "text": [
      "/opt/conda/lib/python3.6/site-packages/ipykernel_launcher.py:5: RuntimeWarning: invalid value encountered in true_divide\n",
      "  \"\"\"\n"
     ]
    },
    {
     "data": {
      "image/png": "[encoded data removed]",
      "text/plain": [
       "<Figure size 720x360 with 1 Axes>"
      ]
     },
     "metadata": {
      "needs_background": "light"
     },
     "output_type": "display_data"
    }
   ],
   "source": [
    "plt.figure(figsize=(10,5))\n",
    "# plt.plot(thresholds, tps/(tps+fns), label=\"true positive rate\")\n",
    "# plt.plot(thresholds, tns/(tns+fps), label=\"true negative rate\")\n",
    "# plt.ylim(0.7,1.1)\n",
    "precisions = tps/(tps+fps)\n",
    "recalls    = tps/(tps+fns)\n",
    "f1s        = 2*precisions*recalls/(precisions+recalls)\n",
    "\n",
    "bestf1_ind = np.nanargmax(f1s)\n",
    "bt = thresholds[bestf1_ind]\n",
    "\n",
    "plt.plot(thresholds, precisions, alpha=0.5, label=\"precision\")\n",
    "plt.plot(thresholds, recalls,    alpha=0.5, label=\"recall\")\n",
    "plt.plot(thresholds, f1s, label=\"f1\")\n",
    "plt.axvline(bt, color=\"red\", linewidth=3)\n",
    "\n",
    "plt.title(f\"Best threshold for anomaly detection: {bt}\")\n",
    "\n",
    "plt.legend()\n",
    "plt.show()"
   ]
  },
  {
   "cell_type": "code",
   "execution_count": 17,
   "metadata": {},
   "outputs": [
    {
     "data": {
      "text/plain": [
       "['isoforest1min.gz']"
      ]
     },
     "execution_count": 17,
     "metadata": {},
     "output_type": "execute_result"
    }
   ],
   "source": [
    "dump({\"model\":clf, \"threshold\":bt}, \"isoforest1min.gz\")"
   ]
  },
  {
   "cell_type": "code",
   "execution_count": 18,
   "metadata": {},
   "outputs": [
    {
     "data": {
      "image/png": "[encoded data removed]",
      "text/plain": [
       "<Figure size 432x288 with 1 Axes>"
      ]
     },
     "metadata": {
      "needs_background": "light"
     },
     "output_type": "display_data"
    }
   ],
   "source": [
    "plt.figure()\n",
    "plt.plot(precisions, recalls, \"o\")\n",
    "plt.show()"
   ]
  }
 ],
 "metadata": {
  "kernelspec": {
   "display_name": "Python 3",
   "language": "python",
   "name": "python3"
  },
  "language_info": {
   "codemirror_mode": {
    "name": "ipython",
    "version": 3
   },
   "file_extension": ".py",
   "mimetype": "text/x-python",
   "name": "python",
   "nbconvert_exporter": "python",
   "pygments_lexer": "ipython3",
   "version": "3.6.9"
  }
 },
 "nbformat": 4,
 "nbformat_minor": 4
}
