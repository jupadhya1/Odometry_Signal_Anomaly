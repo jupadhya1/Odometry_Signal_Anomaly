{
 "cells": [
  {
   "cell_type": "code",
   "execution_count": 1,
   "metadata": {
    "collapsed": true
   },
   "outputs": [],
   "source": [
    "import os\n",
    "\n",
    "import pandas as pd\n",
    "from datetime import datetime\n",
    "\n",
    "import matplotlib.pyplot as plt\n",
    "\n",
    "from glob import glob\n",
    "from tqdm import tqdm_notebook as tqdm\n",
    "\n",
    "import pickle\n",
    "import json\n",
    "\n",
    "from io import StringIO, BytesIO\n",
    "\n",
    "import boto3\n",
    "from minio import Minio\n",
    "from minio.error import ResponseError, NoSuchKey\n",
    "\n",
    "from ptc_scmt.speed_profile_handling import compute_features"
   ]
  },
  {
   "cell_type": "code",
   "execution_count": 2,
   "metadata": {
    "collapsed": true
   },
   "outputs": [],
   "source": [
    "INPUT_BUCKET_NAME = \"odometryclassification\""
   ]
  },
  {
   "cell_type": "code",
   "execution_count": 3,
   "metadata": {
    "collapsed": true
   },
   "outputs": [],
   "source": [
    "INPUTDIRNAME = \"events1min\""
   ]
  },
  {
   "cell_type": "code",
   "execution_count": 4,
   "metadata": {
    "collapsed": true
   },
   "outputs": [],
   "source": [
    "with open(\"config.json\", \"r\") as f:\n",
    "    config = json.load(f)"
   ]
  },
  {
   "cell_type": "code",
   "execution_count": 5,
   "metadata": {
    "collapsed": true
   },
   "outputs": [],
   "source": [
    "minioClient = Minio(config[\"minio_config\"][\"endpoint_url\"].replace(\"http://\",\"\").rstrip(\"/\"),\n",
    "                    access_key=config[\"minio_config\"][\"aws_access_key_id\"],\n",
    "                    secret_key=config[\"minio_config\"][\"aws_secret_access_key\"],\n",
    "                    secure=False)"
   ]
  },
  {
   "cell_type": "code",
   "execution_count": 6,
   "metadata": {
    "collapsed": true
   },
   "outputs": [],
   "source": [
    "pd.set_option('display.max_columns', None)"
   ]
  },
  {
   "cell_type": "code",
   "execution_count": 7,
   "metadata": {
    "collapsed": true
   },
   "outputs": [],
   "source": [
    "speed_vars = [\"axle1RawSpeed\", \n",
    "              \"axle2RawSpeed\", \n",
    "              \"trainSpeed\"\n",
    "             ]"
   ]
  },
  {
   "cell_type": "code",
   "execution_count": 8,
   "metadata": {
    "collapsed": true
   },
   "outputs": [],
   "source": [
    "def get_df_from_pickle(path):\n",
    "    with open(path, \"rb\") as f:\n",
    "        return pickle.load(f)[\"data\"]"
   ]
  },
  {
   "cell_type": "code",
   "execution_count": 9,
   "metadata": {
    "collapsed": true
   },
   "outputs": [],
   "source": [
    "def get_pickle_from_minio(filename):\n",
    "    try:\n",
    "        data = minioClient.get_object(INPUT_BUCKET_NAME, filename)\n",
    "    except NoSuchKey:\n",
    "        pass\n",
    "\n",
    "    data = BytesIO(data.read())\n",
    "    \n",
    "    return pickle.load(data)[\"data\"]"
   ]
  },
  {
   "cell_type": "code",
   "execution_count": 10,
   "metadata": {
    "collapsed": true
   },
   "outputs": [],
   "source": [
    "def plot_profiles(df, metadata=None):\n",
    "    plt.figure(figsize=(15,5))\n",
    "    if metadata is not None:\n",
    "        vid = metadata['VehicleID']\n",
    "        rel = metadata['Relative Error (%)']\n",
    "        com = metadata[\"Comment\"]\n",
    "        plt.title(f\"Speed profiles - VehicleID {vid}, Relative Error = {rel}, reason: {com}\")\n",
    "    plt.plot(df[\"axle1RawSpeed\"], label=\"axle1RawSpeed\")\n",
    "    plt.plot(df[\"axle2RawSpeed\"], label=\"axle2RawSpeed\")\n",
    "    plt.plot(df[\"trainSpeed\"], label=\"trainSpeed\")\n",
    "    plt.legend()\n",
    "    plt.show()"
   ]
  },
  {
   "cell_type": "code",
   "execution_count": 11,
   "metadata": {
    "collapsed": true
   },
   "outputs": [],
   "source": [
    "def plot_features(df, features=[], metadata=None):    \n",
    "    for f in features:\n",
    "        plt.figure(figsize=(10,7))\n",
    "        if metadata is not None:\n",
    "            vid = metadata['VehicleID']\n",
    "            rel = metadata['Relative Error (%)']\n",
    "            com = metadata[\"Comment\"]\n",
    "            plt.title(f\"Speed profiles - VehicleID {vid}, Relative Error = {rel}, reason: {com}\")\n",
    "        else:\n",
    "            plt.title(f)\n",
    "\n",
    "        plt.hist(df[df[\"is_nominal\"] == True][f],  bins=40, density=True, range=(df[f].min()-1e-6, df[f].max()+1e-6), alpha=0.5, label=\"nominal\")\n",
    "        plt.hist(df[df[\"is_nominal\"] == False][f], bins=40, density=True, range=(df[f].min()-1e-6, df[f].max()+1e-6), alpha=0.5, label=\"anomalous\")\n",
    "        plt.legend()\n",
    "        plt.show()"
   ]
  },
  {
   "cell_type": "code",
   "execution_count": 12,
   "metadata": {
    "collapsed": true
   },
   "outputs": [],
   "source": [
    "client = boto3.client(\"s3\", \n",
    "                      endpoint_url=config[\"minio_config\"][\"endpoint_url\"],\n",
    "                      aws_access_key_id=config[\"minio_config\"][\"aws_access_key_id\"],\n",
    "                      aws_secret_access_key=config[\"minio_config\"][\"aws_secret_access_key\"],\n",
    "                      region_name=config[\"minio_config\"][\"region_name\"])\n",
    "\n",
    "paginator = client.get_paginator(\"list_objects_v2\")\n",
    "\n",
    "event_files = list()\n",
    "for page in paginator.paginate(Bucket=INPUT_BUCKET_NAME, Prefix=f\"{INPUTDIRNAME}/\"):\n",
    "    if \"Contents\" in page.keys():\n",
    "        for obj in page[\"Contents\"]:\n",
    "            event_files.append(obj[\"Key\"])\n",
    "            "
   ]
  },
  {
   "cell_type": "raw",
   "metadata": {},
   "source": [
    "df = get_pickle_from_minio(\"events1min/nominal/6039_2020-01-07--04-18-49596000.pkl\")\n",
    "df = df[speed_vars]\n",
    "# print(df.index)\n",
    "# df.index = pd.to_timedelta(df.index, unit=\"s\")\n",
    "\n",
    "df = df.resample(\"500L\").mean()\n",
    "df = df.ffill()\n",
    "\n",
    "print(df[df.isna().any(axis=1)])\n",
    "print(df.iloc[:30])"
   ]
  },
  {
   "cell_type": "code",
   "execution_count": 13,
   "metadata": {
    "collapsed": false
   },
   "outputs": [
    {
     "data": {
      "application/vnd.jupyter.widget-view+json": {
       "model_id": "7c38f9d6f33d4fcaa0a2ac4ba63ade9f",
       "version_major": 2,
       "version_minor": 0
      },
      "text/plain": [
       "HBox(children=(IntProgress(value=0, max=41107), HTML(value='')))"
      ]
     },
     "metadata": {},
     "output_type": "display_data"
    },
    {
     "name": "stdout",
     "output_type": "stream",
     "text": [
      "\n"
     ]
    }
   ],
   "source": [
    "data = list()\n",
    "event_names = list()\n",
    "for event in tqdm(event_files):\n",
    "        \n",
    "    df_event = get_pickle_from_minio(event)\n",
    "    \n",
    "    if df_event.shape[0] == 0:\n",
    "        continue\n",
    "            \n",
    "    df_event = df_event[speed_vars]    \n",
    "    features = compute_features(df_event, *speed_vars)\n",
    "    \n",
    "    if \"nominal\" in event:\n",
    "        features[\"is_nominal\"] = True\n",
    "    else:\n",
    "        features[\"is_nominal\"] = False\n",
    "        \n",
    "    data.append(features)\n",
    "    event_names.append(\"/\".join(event.split(\".\")[0].split(\"/\")[1:]))\n",
    "    "
   ]
  },
  {
   "cell_type": "code",
   "execution_count": 14,
   "metadata": {
    "collapsed": true,
    "scrolled": true
   },
   "outputs": [],
   "source": [
    "idx = [\"/\".join(e.split(\".\")[0].split(\"/\")[1:]) for e in event_files]\n",
    "df_features = pd.DataFrame.from_records(data, \n",
    "                                        index=event_names)"
   ]
  },
  {
   "cell_type": "code",
   "execution_count": 15,
   "metadata": {
    "collapsed": false
   },
   "outputs": [
    {
     "data": {
      "text/html": [
       "<div>\n",
       "<style scoped>\n",
       "    .dataframe tbody tr th:only-of-type {\n",
       "        vertical-align: middle;\n",
       "    }\n",
       "\n",
       "    .dataframe tbody tr th {\n",
       "        vertical-align: top;\n",
       "    }\n",
       "\n",
       "    .dataframe thead th {\n",
       "        text-align: right;\n",
       "    }\n",
       "</style>\n",
       "<table border=\"1\" class=\"dataframe\">\n",
       "  <thead>\n",
       "    <tr style=\"text-align: right;\">\n",
       "      <th></th>\n",
       "      <th>axle1_minus_train_speed_min</th>\n",
       "      <th>axle1_minus_train_speed_max</th>\n",
       "      <th>axle1_minus_train_speed_mean</th>\n",
       "      <th>axle1_minus_train_speed_std</th>\n",
       "      <th>axle1_minus_train_speed_median</th>\n",
       "      <th>axle1_acc_min</th>\n",
       "      <th>axle1_acc_max</th>\n",
       "      <th>axle1_acc_mean</th>\n",
       "      <th>axle1_acc_std</th>\n",
       "      <th>axle1_acc_median</th>\n",
       "      <th>axle1_train_acc_min</th>\n",
       "      <th>axle1_train_acc_max</th>\n",
       "      <th>axle1_train_acc_mean</th>\n",
       "      <th>axle1_train_acc_std</th>\n",
       "      <th>axle1_train_acc_median</th>\n",
       "      <th>axle2_minus_train_speed_min</th>\n",
       "      <th>axle2_minus_train_speed_max</th>\n",
       "      <th>axle2_minus_train_speed_mean</th>\n",
       "      <th>axle2_minus_train_speed_std</th>\n",
       "      <th>axle2_minus_train_speed_median</th>\n",
       "      <th>axle2_acc_min</th>\n",
       "      <th>axle2_acc_max</th>\n",
       "      <th>axle2_acc_mean</th>\n",
       "      <th>axle2_acc_std</th>\n",
       "      <th>axle2_acc_median</th>\n",
       "      <th>axle2_train_acc_min</th>\n",
       "      <th>axle2_train_acc_max</th>\n",
       "      <th>axle2_train_acc_mean</th>\n",
       "      <th>axle2_train_acc_std</th>\n",
       "      <th>axle2_train_acc_median</th>\n",
       "      <th>axle1_minus_axle2_integral</th>\n",
       "      <th>axle1_minus_axle2_integral_pos</th>\n",
       "      <th>axle1_minus_axle2_integral_neg</th>\n",
       "      <th>axle1_minus_train_integral</th>\n",
       "      <th>axle1_minus_train_integral_pos</th>\n",
       "      <th>axle1_minus_train_integral_neg</th>\n",
       "      <th>axle2_minus_train_integral</th>\n",
       "      <th>axle2_minus_train_integral_pos</th>\n",
       "      <th>axle2_minus_train_integral_neg</th>\n",
       "      <th>is_nominal</th>\n",
       "    </tr>\n",
       "  </thead>\n",
       "  <tbody>\n",
       "    <tr>\n",
       "      <td>4005_2020-02-04--07-52-13755000</td>\n",
       "      <td>-18</td>\n",
       "      <td>1</td>\n",
       "      <td>-4.016529</td>\n",
       "      <td>5.740185</td>\n",
       "      <td>0.0</td>\n",
       "      <td>-2.0</td>\n",
       "      <td>1.0</td>\n",
       "      <td>-0.175000</td>\n",
       "      <td>0.784969</td>\n",
       "      <td>0.0</td>\n",
       "      <td>-2.0</td>\n",
       "      <td>1.0</td>\n",
       "      <td>0.0000</td>\n",
       "      <td>0.733359</td>\n",
       "      <td>0.0</td>\n",
       "      <td>-18</td>\n",
       "      <td>1</td>\n",
       "      <td>-4.107438</td>\n",
       "      <td>5.660980</td>\n",
       "      <td>0.0</td>\n",
       "      <td>-2.0</td>\n",
       "      <td>1.0</td>\n",
       "      <td>-0.175000</td>\n",
       "      <td>0.774190</td>\n",
       "      <td>0.0</td>\n",
       "      <td>-2.0</td>\n",
       "      <td>1.0</td>\n",
       "      <td>0.0000</td>\n",
       "      <td>0.661041</td>\n",
       "      <td>0.0</td>\n",
       "      <td>5.5</td>\n",
       "      <td>6.5</td>\n",
       "      <td>0.0</td>\n",
       "      <td>-243.0</td>\n",
       "      <td>6.0</td>\n",
       "      <td>-249.0</td>\n",
       "      <td>-243.0</td>\n",
       "      <td>26.0</td>\n",
       "      <td>-2254.5</td>\n",
       "      <td>False</td>\n",
       "    </tr>\n",
       "    <tr>\n",
       "      <td>4018_2020-02-25--06-58-04567000</td>\n",
       "      <td>-17</td>\n",
       "      <td>0</td>\n",
       "      <td>-4.090909</td>\n",
       "      <td>5.165591</td>\n",
       "      <td>-1.0</td>\n",
       "      <td>-2.0</td>\n",
       "      <td>0.0</td>\n",
       "      <td>-0.583333</td>\n",
       "      <td>0.705123</td>\n",
       "      <td>0.0</td>\n",
       "      <td>-2.0</td>\n",
       "      <td>5.0</td>\n",
       "      <td>0.0000</td>\n",
       "      <td>0.850111</td>\n",
       "      <td>0.0</td>\n",
       "      <td>-17</td>\n",
       "      <td>0</td>\n",
       "      <td>-4.165289</td>\n",
       "      <td>5.124040</td>\n",
       "      <td>-1.0</td>\n",
       "      <td>-2.0</td>\n",
       "      <td>0.0</td>\n",
       "      <td>-0.583333</td>\n",
       "      <td>0.716942</td>\n",
       "      <td>0.0</td>\n",
       "      <td>-2.0</td>\n",
       "      <td>5.0</td>\n",
       "      <td>0.0000</td>\n",
       "      <td>0.898177</td>\n",
       "      <td>0.0</td>\n",
       "      <td>4.5</td>\n",
       "      <td>5.0</td>\n",
       "      <td>0.0</td>\n",
       "      <td>-247.5</td>\n",
       "      <td>0.0</td>\n",
       "      <td>-247.5</td>\n",
       "      <td>-247.5</td>\n",
       "      <td>0.0</td>\n",
       "      <td>-252.0</td>\n",
       "      <td>False</td>\n",
       "    </tr>\n",
       "    <tr>\n",
       "      <td>4018_2020-03-16--04-49-06952000</td>\n",
       "      <td>-24</td>\n",
       "      <td>0</td>\n",
       "      <td>-6.942149</td>\n",
       "      <td>7.762407</td>\n",
       "      <td>-4.0</td>\n",
       "      <td>-2.0</td>\n",
       "      <td>1.0</td>\n",
       "      <td>-0.333333</td>\n",
       "      <td>0.714006</td>\n",
       "      <td>0.0</td>\n",
       "      <td>-2.0</td>\n",
       "      <td>1.0</td>\n",
       "      <td>0.0000</td>\n",
       "      <td>0.721809</td>\n",
       "      <td>0.0</td>\n",
       "      <td>-24</td>\n",
       "      <td>1</td>\n",
       "      <td>-6.884298</td>\n",
       "      <td>7.807251</td>\n",
       "      <td>-4.0</td>\n",
       "      <td>-2.0</td>\n",
       "      <td>1.0</td>\n",
       "      <td>-0.333333</td>\n",
       "      <td>0.714006</td>\n",
       "      <td>0.0</td>\n",
       "      <td>-2.0</td>\n",
       "      <td>1.0</td>\n",
       "      <td>0.0000</td>\n",
       "      <td>0.710072</td>\n",
       "      <td>0.0</td>\n",
       "      <td>-3.5</td>\n",
       "      <td>0.0</td>\n",
       "      <td>-17.5</td>\n",
       "      <td>-420.0</td>\n",
       "      <td>0.0</td>\n",
       "      <td>-840.0</td>\n",
       "      <td>-420.0</td>\n",
       "      <td>7.5</td>\n",
       "      <td>-418.0</td>\n",
       "      <td>False</td>\n",
       "    </tr>\n",
       "    <tr>\n",
       "      <td>4018_2020-03-16--04-49-26952000</td>\n",
       "      <td>-24</td>\n",
       "      <td>0</td>\n",
       "      <td>-8.543210</td>\n",
       "      <td>8.345732</td>\n",
       "      <td>-7.0</td>\n",
       "      <td>-2.0</td>\n",
       "      <td>0.0</td>\n",
       "      <td>-0.125000</td>\n",
       "      <td>0.460462</td>\n",
       "      <td>0.0</td>\n",
       "      <td>-2.0</td>\n",
       "      <td>1.0</td>\n",
       "      <td>0.2125</td>\n",
       "      <td>0.630325</td>\n",
       "      <td>0.0</td>\n",
       "      <td>-24</td>\n",
       "      <td>0</td>\n",
       "      <td>-8.543210</td>\n",
       "      <td>8.345732</td>\n",
       "      <td>-7.0</td>\n",
       "      <td>-2.0</td>\n",
       "      <td>0.0</td>\n",
       "      <td>-0.125000</td>\n",
       "      <td>0.460462</td>\n",
       "      <td>0.0</td>\n",
       "      <td>-2.0</td>\n",
       "      <td>1.0</td>\n",
       "      <td>0.2125</td>\n",
       "      <td>0.630325</td>\n",
       "      <td>0.0</td>\n",
       "      <td>0.0</td>\n",
       "      <td>0.0</td>\n",
       "      <td>0.0</td>\n",
       "      <td>-346.0</td>\n",
       "      <td>0.0</td>\n",
       "      <td>-346.0</td>\n",
       "      <td>-346.0</td>\n",
       "      <td>0.0</td>\n",
       "      <td>-346.0</td>\n",
       "      <td>False</td>\n",
       "    </tr>\n",
       "    <tr>\n",
       "      <td>4026_2020-01-20--04-48-25560000</td>\n",
       "      <td>-1</td>\n",
       "      <td>0</td>\n",
       "      <td>-0.008264</td>\n",
       "      <td>0.090909</td>\n",
       "      <td>0.0</td>\n",
       "      <td>-2.0</td>\n",
       "      <td>1.0</td>\n",
       "      <td>-0.216667</td>\n",
       "      <td>0.537397</td>\n",
       "      <td>0.0</td>\n",
       "      <td>-1.0</td>\n",
       "      <td>1.0</td>\n",
       "      <td>0.0000</td>\n",
       "      <td>0.129641</td>\n",
       "      <td>0.0</td>\n",
       "      <td>-1</td>\n",
       "      <td>0</td>\n",
       "      <td>-0.033058</td>\n",
       "      <td>0.179531</td>\n",
       "      <td>0.0</td>\n",
       "      <td>-1.0</td>\n",
       "      <td>1.0</td>\n",
       "      <td>-0.216667</td>\n",
       "      <td>0.521525</td>\n",
       "      <td>0.0</td>\n",
       "      <td>-1.0</td>\n",
       "      <td>1.0</td>\n",
       "      <td>0.0000</td>\n",
       "      <td>0.259281</td>\n",
       "      <td>0.0</td>\n",
       "      <td>1.5</td>\n",
       "      <td>34.0</td>\n",
       "      <td>0.0</td>\n",
       "      <td>-0.5</td>\n",
       "      <td>0.0</td>\n",
       "      <td>0.0</td>\n",
       "      <td>-0.5</td>\n",
       "      <td>0.0</td>\n",
       "      <td>-34.0</td>\n",
       "      <td>False</td>\n",
       "    </tr>\n",
       "  </tbody>\n",
       "</table>\n",
       "</div>"
      ],
      "text/plain": [
       "                                 axle1_minus_train_speed_min  \\\n",
       "4005_2020-02-04--07-52-13755000                          -18   \n",
       "4018_2020-02-25--06-58-04567000                          -17   \n",
       "4018_2020-03-16--04-49-06952000                          -24   \n",
       "4018_2020-03-16--04-49-26952000                          -24   \n",
       "4026_2020-01-20--04-48-25560000                           -1   \n",
       "\n",
       "                                 axle1_minus_train_speed_max  \\\n",
       "4005_2020-02-04--07-52-13755000                            1   \n",
       "4018_2020-02-25--06-58-04567000                            0   \n",
       "4018_2020-03-16--04-49-06952000                            0   \n",
       "4018_2020-03-16--04-49-26952000                            0   \n",
       "4026_2020-01-20--04-48-25560000                            0   \n",
       "\n",
       "                                 axle1_minus_train_speed_mean  \\\n",
       "4005_2020-02-04--07-52-13755000                     -4.016529   \n",
       "4018_2020-02-25--06-58-04567000                     -4.090909   \n",
       "4018_2020-03-16--04-49-06952000                     -6.942149   \n",
       "4018_2020-03-16--04-49-26952000                     -8.543210   \n",
       "4026_2020-01-20--04-48-25560000                     -0.008264   \n",
       "\n",
       "                                 axle1_minus_train_speed_std  \\\n",
       "4005_2020-02-04--07-52-13755000                     5.740185   \n",
       "4018_2020-02-25--06-58-04567000                     5.165591   \n",
       "4018_2020-03-16--04-49-06952000                     7.762407   \n",
       "4018_2020-03-16--04-49-26952000                     8.345732   \n",
       "4026_2020-01-20--04-48-25560000                     0.090909   \n",
       "\n",
       "                                 axle1_minus_train_speed_median  \\\n",
       "4005_2020-02-04--07-52-13755000                             0.0   \n",
       "4018_2020-02-25--06-58-04567000                            -1.0   \n",
       "4018_2020-03-16--04-49-06952000                            -4.0   \n",
       "4018_2020-03-16--04-49-26952000                            -7.0   \n",
       "4026_2020-01-20--04-48-25560000                             0.0   \n",
       "\n",
       "                                 axle1_acc_min  axle1_acc_max  axle1_acc_mean  \\\n",
       "4005_2020-02-04--07-52-13755000           -2.0            1.0       -0.175000   \n",
       "4018_2020-02-25--06-58-04567000           -2.0            0.0       -0.583333   \n",
       "4018_2020-03-16--04-49-06952000           -2.0            1.0       -0.333333   \n",
       "4018_2020-03-16--04-49-26952000           -2.0            0.0       -0.125000   \n",
       "4026_2020-01-20--04-48-25560000           -2.0            1.0       -0.216667   \n",
       "\n",
       "                                 axle1_acc_std  axle1_acc_median  \\\n",
       "4005_2020-02-04--07-52-13755000       0.784969               0.0   \n",
       "4018_2020-02-25--06-58-04567000       0.705123               0.0   \n",
       "4018_2020-03-16--04-49-06952000       0.714006               0.0   \n",
       "4018_2020-03-16--04-49-26952000       0.460462               0.0   \n",
       "4026_2020-01-20--04-48-25560000       0.537397               0.0   \n",
       "\n",
       "                                 axle1_train_acc_min  axle1_train_acc_max  \\\n",
       "4005_2020-02-04--07-52-13755000                 -2.0                  1.0   \n",
       "4018_2020-02-25--06-58-04567000                 -2.0                  5.0   \n",
       "4018_2020-03-16--04-49-06952000                 -2.0                  1.0   \n",
       "4018_2020-03-16--04-49-26952000                 -2.0                  1.0   \n",
       "4026_2020-01-20--04-48-25560000                 -1.0                  1.0   \n",
       "\n",
       "                                 axle1_train_acc_mean  axle1_train_acc_std  \\\n",
       "4005_2020-02-04--07-52-13755000                0.0000             0.733359   \n",
       "4018_2020-02-25--06-58-04567000                0.0000             0.850111   \n",
       "4018_2020-03-16--04-49-06952000                0.0000             0.721809   \n",
       "4018_2020-03-16--04-49-26952000                0.2125             0.630325   \n",
       "4026_2020-01-20--04-48-25560000                0.0000             0.129641   \n",
       "\n",
       "                                 axle1_train_acc_median  \\\n",
       "4005_2020-02-04--07-52-13755000                     0.0   \n",
       "4018_2020-02-25--06-58-04567000                     0.0   \n",
       "4018_2020-03-16--04-49-06952000                     0.0   \n",
       "4018_2020-03-16--04-49-26952000                     0.0   \n",
       "4026_2020-01-20--04-48-25560000                     0.0   \n",
       "\n",
       "                                 axle2_minus_train_speed_min  \\\n",
       "4005_2020-02-04--07-52-13755000                          -18   \n",
       "4018_2020-02-25--06-58-04567000                          -17   \n",
       "4018_2020-03-16--04-49-06952000                          -24   \n",
       "4018_2020-03-16--04-49-26952000                          -24   \n",
       "4026_2020-01-20--04-48-25560000                           -1   \n",
       "\n",
       "                                 axle2_minus_train_speed_max  \\\n",
       "4005_2020-02-04--07-52-13755000                            1   \n",
       "4018_2020-02-25--06-58-04567000                            0   \n",
       "4018_2020-03-16--04-49-06952000                            1   \n",
       "4018_2020-03-16--04-49-26952000                            0   \n",
       "4026_2020-01-20--04-48-25560000                            0   \n",
       "\n",
       "                                 axle2_minus_train_speed_mean  \\\n",
       "4005_2020-02-04--07-52-13755000                     -4.107438   \n",
       "4018_2020-02-25--06-58-04567000                     -4.165289   \n",
       "4018_2020-03-16--04-49-06952000                     -6.884298   \n",
       "4018_2020-03-16--04-49-26952000                     -8.543210   \n",
       "4026_2020-01-20--04-48-25560000                     -0.033058   \n",
       "\n",
       "                                 axle2_minus_train_speed_std  \\\n",
       "4005_2020-02-04--07-52-13755000                     5.660980   \n",
       "4018_2020-02-25--06-58-04567000                     5.124040   \n",
       "4018_2020-03-16--04-49-06952000                     7.807251   \n",
       "4018_2020-03-16--04-49-26952000                     8.345732   \n",
       "4026_2020-01-20--04-48-25560000                     0.179531   \n",
       "\n",
       "                                 axle2_minus_train_speed_median  \\\n",
       "4005_2020-02-04--07-52-13755000                             0.0   \n",
       "4018_2020-02-25--06-58-04567000                            -1.0   \n",
       "4018_2020-03-16--04-49-06952000                            -4.0   \n",
       "4018_2020-03-16--04-49-26952000                            -7.0   \n",
       "4026_2020-01-20--04-48-25560000                             0.0   \n",
       "\n",
       "                                 axle2_acc_min  axle2_acc_max  axle2_acc_mean  \\\n",
       "4005_2020-02-04--07-52-13755000           -2.0            1.0       -0.175000   \n",
       "4018_2020-02-25--06-58-04567000           -2.0            0.0       -0.583333   \n",
       "4018_2020-03-16--04-49-06952000           -2.0            1.0       -0.333333   \n",
       "4018_2020-03-16--04-49-26952000           -2.0            0.0       -0.125000   \n",
       "4026_2020-01-20--04-48-25560000           -1.0            1.0       -0.216667   \n",
       "\n",
       "                                 axle2_acc_std  axle2_acc_median  \\\n",
       "4005_2020-02-04--07-52-13755000       0.774190               0.0   \n",
       "4018_2020-02-25--06-58-04567000       0.716942               0.0   \n",
       "4018_2020-03-16--04-49-06952000       0.714006               0.0   \n",
       "4018_2020-03-16--04-49-26952000       0.460462               0.0   \n",
       "4026_2020-01-20--04-48-25560000       0.521525               0.0   \n",
       "\n",
       "                                 axle2_train_acc_min  axle2_train_acc_max  \\\n",
       "4005_2020-02-04--07-52-13755000                 -2.0                  1.0   \n",
       "4018_2020-02-25--06-58-04567000                 -2.0                  5.0   \n",
       "4018_2020-03-16--04-49-06952000                 -2.0                  1.0   \n",
       "4018_2020-03-16--04-49-26952000                 -2.0                  1.0   \n",
       "4026_2020-01-20--04-48-25560000                 -1.0                  1.0   \n",
       "\n",
       "                                 axle2_train_acc_mean  axle2_train_acc_std  \\\n",
       "4005_2020-02-04--07-52-13755000                0.0000             0.661041   \n",
       "4018_2020-02-25--06-58-04567000                0.0000             0.898177   \n",
       "4018_2020-03-16--04-49-06952000                0.0000             0.710072   \n",
       "4018_2020-03-16--04-49-26952000                0.2125             0.630325   \n",
       "4026_2020-01-20--04-48-25560000                0.0000             0.259281   \n",
       "\n",
       "                                 axle2_train_acc_median  \\\n",
       "4005_2020-02-04--07-52-13755000                     0.0   \n",
       "4018_2020-02-25--06-58-04567000                     0.0   \n",
       "4018_2020-03-16--04-49-06952000                     0.0   \n",
       "4018_2020-03-16--04-49-26952000                     0.0   \n",
       "4026_2020-01-20--04-48-25560000                     0.0   \n",
       "\n",
       "                                 axle1_minus_axle2_integral  \\\n",
       "4005_2020-02-04--07-52-13755000                         5.5   \n",
       "4018_2020-02-25--06-58-04567000                         4.5   \n",
       "4018_2020-03-16--04-49-06952000                        -3.5   \n",
       "4018_2020-03-16--04-49-26952000                         0.0   \n",
       "4026_2020-01-20--04-48-25560000                         1.5   \n",
       "\n",
       "                                 axle1_minus_axle2_integral_pos  \\\n",
       "4005_2020-02-04--07-52-13755000                             6.5   \n",
       "4018_2020-02-25--06-58-04567000                             5.0   \n",
       "4018_2020-03-16--04-49-06952000                             0.0   \n",
       "4018_2020-03-16--04-49-26952000                             0.0   \n",
       "4026_2020-01-20--04-48-25560000                            34.0   \n",
       "\n",
       "                                 axle1_minus_axle2_integral_neg  \\\n",
       "4005_2020-02-04--07-52-13755000                             0.0   \n",
       "4018_2020-02-25--06-58-04567000                             0.0   \n",
       "4018_2020-03-16--04-49-06952000                           -17.5   \n",
       "4018_2020-03-16--04-49-26952000                             0.0   \n",
       "4026_2020-01-20--04-48-25560000                             0.0   \n",
       "\n",
       "                                 axle1_minus_train_integral  \\\n",
       "4005_2020-02-04--07-52-13755000                      -243.0   \n",
       "4018_2020-02-25--06-58-04567000                      -247.5   \n",
       "4018_2020-03-16--04-49-06952000                      -420.0   \n",
       "4018_2020-03-16--04-49-26952000                      -346.0   \n",
       "4026_2020-01-20--04-48-25560000                        -0.5   \n",
       "\n",
       "                                 axle1_minus_train_integral_pos  \\\n",
       "4005_2020-02-04--07-52-13755000                             6.0   \n",
       "4018_2020-02-25--06-58-04567000                             0.0   \n",
       "4018_2020-03-16--04-49-06952000                             0.0   \n",
       "4018_2020-03-16--04-49-26952000                             0.0   \n",
       "4026_2020-01-20--04-48-25560000                             0.0   \n",
       "\n",
       "                                 axle1_minus_train_integral_neg  \\\n",
       "4005_2020-02-04--07-52-13755000                          -249.0   \n",
       "4018_2020-02-25--06-58-04567000                          -247.5   \n",
       "4018_2020-03-16--04-49-06952000                          -840.0   \n",
       "4018_2020-03-16--04-49-26952000                          -346.0   \n",
       "4026_2020-01-20--04-48-25560000                             0.0   \n",
       "\n",
       "                                 axle2_minus_train_integral  \\\n",
       "4005_2020-02-04--07-52-13755000                      -243.0   \n",
       "4018_2020-02-25--06-58-04567000                      -247.5   \n",
       "4018_2020-03-16--04-49-06952000                      -420.0   \n",
       "4018_2020-03-16--04-49-26952000                      -346.0   \n",
       "4026_2020-01-20--04-48-25560000                        -0.5   \n",
       "\n",
       "                                 axle2_minus_train_integral_pos  \\\n",
       "4005_2020-02-04--07-52-13755000                            26.0   \n",
       "4018_2020-02-25--06-58-04567000                             0.0   \n",
       "4018_2020-03-16--04-49-06952000                             7.5   \n",
       "4018_2020-03-16--04-49-26952000                             0.0   \n",
       "4026_2020-01-20--04-48-25560000                             0.0   \n",
       "\n",
       "                                 axle2_minus_train_integral_neg  is_nominal  \n",
       "4005_2020-02-04--07-52-13755000                         -2254.5       False  \n",
       "4018_2020-02-25--06-58-04567000                          -252.0       False  \n",
       "4018_2020-03-16--04-49-06952000                          -418.0       False  \n",
       "4018_2020-03-16--04-49-26952000                          -346.0       False  \n",
       "4026_2020-01-20--04-48-25560000                           -34.0       False  "
      ]
     },
     "execution_count": 15,
     "metadata": {},
     "output_type": "execute_result"
    }
   ],
   "source": [
    "df_features.head()"
   ]
  },
  {
   "cell_type": "code",
   "execution_count": null,
   "metadata": {
    "collapsed": true
   },
   "outputs": [],
   "source": []
  },
  {
   "cell_type": "code",
   "execution_count": null,
   "metadata": {
    "collapsed": true
   },
   "outputs": [],
   "source": []
  },
  {
   "cell_type": "code",
   "execution_count": 16,
   "metadata": {
    "collapsed": true
   },
   "outputs": [],
   "source": [
    "def plot_features_grid(df, features=[], metadata=None, log=False):  \n",
    "    \n",
    "    n_features = len(features)\n",
    "    \n",
    "    n_cols = 5\n",
    "    nrows = n_features//n_cols if (n_features%n_cols == 0) else n_features//n_cols + 1\n",
    "    fig, axs = plt.subplots(nrows, n_cols, figsize=(n_cols*5,nrows*4))\n",
    "    axs = axs.ravel()\n",
    "    \n",
    "    for i,f in enumerate(features):\n",
    "        if metadata is not None:\n",
    "            vid = metadata['VehicleID']\n",
    "            rel = metadata['Relative Error (%)']\n",
    "            com = metadata[\"Comment\"]\n",
    "            axs[i].set_title(f\"Speed profiles - VehicleID {vid}, Relative Error = {rel}, reason: {com}\")\n",
    "        else:\n",
    "            axs[i].set_title(f)\n",
    "\n",
    "        xn, binsn, pn = axs[i].hist(df[df[\"is_nominal\"] == True][f],  bins=40, density=True, range=(df[f].min()-1e-6, df[f].max()+1e-6), alpha=0.5, label=\"nominal\")\n",
    "        xa, binsa, pa = axs[i].hist(df[df[\"is_nominal\"] == False][f], bins=40, density=True, range=(df[f].min()-1e-6, df[f].max()+1e-6), alpha=0.5, label=\"anomalous\")\n",
    "        \n",
    "        for item in pn:\n",
    "            item.set_height(item.get_height()/np.max(xn))\n",
    "        for item in pa:\n",
    "            item.set_height(item.get_height()/np.max(xa))\n",
    "        if log:\n",
    "            axs[i].set_yscale('log')\n",
    "            axs[i].set_ylim(0, 10)\n",
    "        else:\n",
    "            axs[i].set_ylim(0, 1.2)\n",
    "\n",
    "    plt.legend()\n",
    "    plt.show()"
   ]
  },
  {
   "cell_type": "code",
   "execution_count": 17,
   "metadata": {
    "collapsed": false
   },
   "outputs": [
    {
     "name": "stderr",
     "output_type": "stream",
     "text": [
      "WARNING: Logging before flag parsing goes to stderr.\n",
      "W1215 13:58:31.313750 140065206695680 legend.py:1282] No handles with labels found to put in legend.\n"
     ]
    },
    {
     "data": {
      "image/png": "[encoded data removed]",
      "text/plain": [
       "<Figure size 1800x2304 with 40 Axes>"
      ]
     },
     "metadata": {
      "needs_background": "light"
     },
     "output_type": "display_data"
    }
   ],
   "source": [
    "df_4018 = df_features[[\"4018\" in f for f in df_features.index]]\n",
    "\n",
    "plot_features_grid(df_4018, df_4018.columns.drop(\"is_nominal\"))"
   ]
  },
  {
   "cell_type": "code",
   "execution_count": 18,
   "metadata": {
    "collapsed": false
   },
   "outputs": [
    {
     "data": {
      "application/vnd.jupyter.widget-view+json": {
       "model_id": "68cf2142f79f4e05909020d48b69d6f4",
       "version_major": 2,
       "version_minor": 0
      },
      "text/plain": [
       "HBox(children=(IntProgress(value=0, max=41107), HTML(value='')))"
      ]
     },
     "metadata": {},
     "output_type": "display_data"
    },
    {
     "name": "stderr",
     "output_type": "stream",
     "text": [
      "/opt/conda/lib/python3.6/site-packages/pandas/plotting/_matplotlib/converter.py:103: FutureWarning: Using an implicitly registered datetime converter for a matplotlib plotting method. The converter was registered by pandas on import. Future versions of pandas will require you to explicitly register matplotlib converters.\n",
      "\n",
      "To register the converters:\n",
      "\t>>> from pandas.plotting import register_matplotlib_converters\n",
      "\t>>> register_matplotlib_converters()\n",
      "  warnings.warn(msg, FutureWarning)\n"
     ]
    },
    {
     "data": {
      "image/png": "[encoded data removed]",
      "text/plain": [
       "<Figure size 1080x360 with 1 Axes>"
      ]
     },
     "metadata": {
      "needs_background": "light"
     },
     "output_type": "display_data"
    },
    {
     "name": "stdout",
     "output_type": "stream",
     "text": [
      "-0.175\n",
      "{'axle1_acc_max': 1.0,\n",
      " 'axle1_acc_mean': -0.175,\n",
      " 'axle1_acc_median': 0.0,\n",
      " 'axle1_acc_min': -2.0,\n",
      " 'axle1_acc_std': 0.7849690889380521,\n",
      " 'axle1_minus_axle2_integral': 5.5,\n",
      " 'axle1_minus_axle2_integral_neg': 0,\n",
      " 'axle1_minus_axle2_integral_pos': 6.5,\n",
      " 'axle1_minus_train_integral': -243.0,\n",
      " 'axle1_minus_train_integral_neg': -249.0,\n",
      " 'axle1_minus_train_integral_pos': 6.0,\n",
      " 'axle1_minus_train_speed_max': 1,\n",
      " 'axle1_minus_train_speed_mean': -4.016528925619835,\n",
      " 'axle1_minus_train_speed_median': 0.0,\n",
      " 'axle1_minus_train_speed_min': -18,\n",
      " 'axle1_minus_train_speed_std': 5.740185059552204,\n",
      " 'axle1_train_acc_max': 1.0,\n",
      " 'axle1_train_acc_mean': 0.0,\n",
      " 'axle1_train_acc_median': 0.0,\n",
      " 'axle1_train_acc_min': -2.0,\n",
      " 'axle1_train_acc_std': 0.7333587976225691,\n",
      " 'axle2_acc_max': 1.0,\n",
      " 'axle2_acc_mean': -0.175,\n",
      " 'axle2_acc_median': 0.0,\n",
      " 'axle2_acc_min': -2.0,\n",
      " 'axle2_acc_std': 0.7741897363690377,\n",
      " 'axle2_minus_train_integral': -243.0,\n",
      " 'axle2_minus_train_integral_neg': -2254.5,\n",
      " 'axle2_minus_train_integral_pos': 26.0,\n",
      " 'axle2_minus_train_speed_max': 1,\n",
      " 'axle2_minus_train_speed_mean': -4.107438016528926,\n",
      " 'axle2_minus_train_speed_median': 0.0,\n",
      " 'axle2_minus_train_speed_min': -18,\n",
      " 'axle2_minus_train_speed_std': 5.660979969481965,\n",
      " 'axle2_train_acc_max': 1.0,\n",
      " 'axle2_train_acc_mean': 0.0,\n",
      " 'axle2_train_acc_median': 0.0,\n",
      " 'axle2_train_acc_min': -2.0,\n",
      " 'axle2_train_acc_std': 0.6610406870351978}\n",
      "\n"
     ]
    }
   ],
   "source": [
    "from pprint import pprint\n",
    "\n",
    "for event in tqdm(event_files):\n",
    "        \n",
    "    df_event = get_pickle_from_minio(event)\n",
    "    if df_event.shape[0] == 0:\n",
    "        continue\n",
    "        \n",
    "    df_event = df_event.resample(\"500L\").mean()\n",
    "    \n",
    "    for v in speed_vars:\n",
    "        df_event[v] = df_event[v].astype(np.int16)\n",
    "\n",
    "\n",
    "    plot_profiles(df_event)\n",
    "    print(df_event[\"axle1RawSpeed\"].diff().dropna().mean())\n",
    "#     df_event[\"axle1RawSpeed\"].diff().dropna().plot()\n",
    "#     df_event[\"axle1RawSpeed\"].plot()\n",
    "    \n",
    "    \n",
    "    features = compute_features(df_event, *speed_vars)\n",
    "    pprint(features)\n",
    "    break"
   ]
  },
  {
   "cell_type": "code",
   "execution_count": null,
   "metadata": {
    "collapsed": true
   },
   "outputs": [],
   "source": []
  },
  {
   "cell_type": "code",
   "execution_count": null,
   "metadata": {
    "collapsed": true
   },
   "outputs": [],
   "source": []
  },
  {
   "cell_type": "code",
   "execution_count": null,
   "metadata": {
    "collapsed": true
   },
   "outputs": [],
   "source": []
  },
  {
   "cell_type": "code",
   "execution_count": null,
   "metadata": {
    "collapsed": true
   },
   "outputs": [],
   "source": []
  },
  {
   "cell_type": "raw",
   "metadata": {},
   "source": [
    "df_4018 = df_features[[\"4018\" in f for f in df_features.index]]\n",
    "\n",
    "plot_features(df_4018, df_4018.columns)"
   ]
  },
  {
   "cell_type": "code",
   "execution_count": 19,
   "metadata": {
    "collapsed": true
   },
   "outputs": [],
   "source": [
    "df_features.to_csv(\"features1min.csv\")"
   ]
  },
  {
   "cell_type": "code",
   "execution_count": null,
   "metadata": {
    "collapsed": true
   },
   "outputs": [],
   "source": []
  }
 ],
 "metadata": {
  "anaconda-cloud": {},
  "kernelspec": {
   "display_name": "Python [default]",
   "language": "python",
   "name": "python3"
  },
  "language_info": {
   "codemirror_mode": {
    "name": "ipython",
    "version": 3
   },
   "file_extension": ".py",
   "mimetype": "text/x-python",
   "name": "python",
   "nbconvert_exporter": "python",
   "pygments_lexer": "ipython3",
   "version": "3.5.2"
  }
 },
 "nbformat": 4,
 "nbformat_minor": 4
}
