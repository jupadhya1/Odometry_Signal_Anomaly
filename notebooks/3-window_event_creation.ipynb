{
 "cells": [
  {
   "cell_type": "code",
   "execution_count": 1,
   "metadata": {},
   "outputs": [],
   "source": [
    "import os\n",
    "\n",
    "import pandas as pd\n",
    "from datetime import datetime\n",
    "\n",
    "import matplotlib.pyplot as plt\n",
    "\n",
    "from glob import glob\n",
    "from tqdm import tqdm_notebook as tqdm\n",
    "\n",
    "import pickle\n",
    "import json\n",
    "\n",
    "from io import StringIO, BytesIO\n",
    "\n",
    "import boto3\n",
    "from minio import Minio\n",
    "from minio.error import ResponseError, NoSuchKey\n"
   ]
  },
  {
   "cell_type": "code",
   "execution_count": 2,
   "metadata": {},
   "outputs": [],
   "source": [
    "WINDOW_SIZE_MIN = 1"
   ]
  },
  {
   "cell_type": "code",
   "execution_count": 3,
   "metadata": {},
   "outputs": [],
   "source": [
    "INPUT_BUCKET_NAME = \"odometryclassification\""
   ]
  },
  {
   "cell_type": "code",
   "execution_count": 4,
   "metadata": {},
   "outputs": [],
   "source": [
    "OUTPUTDIRNAME = \"events1min\""
   ]
  },
  {
   "cell_type": "code",
   "execution_count": 5,
   "metadata": {},
   "outputs": [],
   "source": [
    "with open(\"config.json\", \"r\") as f:\n",
    "    config = json.load(f)"
   ]
  },
  {
   "cell_type": "code",
   "execution_count": 6,
   "metadata": {},
   "outputs": [],
   "source": [
    "minioClient = Minio(config[\"minio_config\"][\"endpoint_url\"].replace(\"http://\",\"\").rstrip(\"/\"),\n",
    "                    access_key=config[\"minio_config\"][\"aws_access_key_id\"],\n",
    "                    secret_key=config[\"minio_config\"][\"aws_secret_access_key\"],\n",
    "                    secure=False)"
   ]
  },
  {
   "cell_type": "code",
   "execution_count": 7,
   "metadata": {},
   "outputs": [],
   "source": [
    "def plot_profiles(df, metadata=None):\n",
    "    plt.figure(figsize=(15,5))\n",
    "    if metadata is not None:\n",
    "        vid = metadata['VehicleID']\n",
    "        rel = metadata['Relative Error (%)']\n",
    "        com = metadata[\"Comment\"]\n",
    "        plt.title(f\"Speed profiles - VehicleID {vid}, Relative Error = {rel}, reason: {com}\")\n",
    "    plt.plot(df[\"axle1RawSpeed\"], label=\"axle1RawSpeed\")\n",
    "    plt.plot(df[\"axle2RawSpeed\"], label=\"axle2RawSpeed\")\n",
    "    plt.plot(df[\"trainSpeed\"], label=\"trainSpeed\")\n",
    "    plt.legend()\n",
    "    plt.show()"
   ]
  },
  {
   "cell_type": "code",
   "execution_count": 8,
   "metadata": {},
   "outputs": [],
   "source": [
    "def save_event(df, metadata, output_name):\n",
    "    dirname = os.path.dirname(output_name)\n",
    "    if not os.path.isdir(dirname):\n",
    "        os.makedirs(os.path.dirname(dirname), exist_ok=True)\n",
    "    with open(output_name, \"wb\") as f:\n",
    "        pickle.dump({\"data\":df, \"metadata\":metadata}, f)"
   ]
  },
  {
   "cell_type": "code",
   "execution_count": 9,
   "metadata": {},
   "outputs": [],
   "source": [
    "def save_event_to_minio(df, metadata, outname, bucket_name, minioclient):\n",
    "    if df.shape[0] == 0:\n",
    "        pass\n",
    "    \n",
    "    pickle_byte_obj = pickle.dumps({\"data\":df, \"metadata\":metadata})\n",
    "\n",
    "    if not minioclient.bucket_exists(bucket_name):\n",
    "        minioclient.make_bucket(bucket_name)\n",
    "    minioclient.put_object(bucket_name, \n",
    "                           outname,  \n",
    "                           data=BytesIO(pickle_byte_obj),           \n",
    "                           length=len(pickle_byte_obj))"
   ]
  },
  {
   "cell_type": "raw",
   "metadata": {},
   "source": [
    "dfs = [pd.read_csv(f, nrows=None) for f in glob(\"filtered\\*.csv\")]"
   ]
  },
  {
   "cell_type": "raw",
   "metadata": {},
   "source": [
    "full_diag = pd.concat(dfs, sort=True)"
   ]
  },
  {
   "cell_type": "code",
   "execution_count": 10,
   "metadata": {},
   "outputs": [],
   "source": [
    "windows_df = pd.read_csv(\"window_events.csv\")"
   ]
  },
  {
   "cell_type": "code",
   "execution_count": 11,
   "metadata": {},
   "outputs": [],
   "source": [
    "def get_filename_from_event_info(event):\n",
    "    vid = int(event[\"VehicleID\"])\n",
    "    date = pd.to_datetime(event[\"Timestamp\"]).strftime(\"%Y-%m-%d\")\n",
    "    return f\"filtered/{vid}_{date}.csv\""
   ]
  },
  {
   "cell_type": "code",
   "execution_count": 12,
   "metadata": {},
   "outputs": [],
   "source": [
    "windows_files = [get_filename_from_event_info(event) for _, event in windows_df.iterrows()]"
   ]
  },
  {
   "cell_type": "code",
   "execution_count": null,
   "metadata": {},
   "outputs": [],
   "source": []
  },
  {
   "cell_type": "code",
   "execution_count": 13,
   "metadata": {},
   "outputs": [],
   "source": [
    "client = boto3.client(\"s3\", \n",
    "                      endpoint_url=config[\"minio_config\"][\"endpoint_url\"],\n",
    "                      aws_access_key_id=config[\"minio_config\"][\"aws_access_key_id\"],\n",
    "                      aws_secret_access_key=config[\"minio_config\"][\"aws_secret_access_key\"],\n",
    "                      region_name=config[\"minio_config\"][\"region_name\"])\n",
    "\n",
    "paginator = client.get_paginator(\"list_objects_v2\")\n",
    "\n",
    "all_files = list()\n",
    "for page in paginator.paginate(Bucket=INPUT_BUCKET_NAME, Prefix=\"filtered\"):\n",
    "    if \"Contents\" in page.keys():\n",
    "        for obj in page[\"Contents\"]:\n",
    "            all_files.append(obj[\"Key\"])\n",
    "            "
   ]
  },
  {
   "cell_type": "raw",
   "metadata": {},
   "source": [
    "for i, event in tqdm(windows_df.iterrows(), total=windows_df.shape[0]):\n",
    "    \n",
    "    # search file containing vehicle and date in name\n",
    "    file_name = get_filename_from_event_info(event)\n",
    "    try:\n",
    "        data = minioClient.get_object(INPUT_BUCKET_NAME, file_name)\n",
    "    except NoSuchKey:\n",
    "        continue\n",
    "\n",
    "    print(file_name)\n",
    "\n",
    "    data = data.read()\n",
    "    df_event = pd.read_csv(BytesIO(data))\n",
    "    df_event[\"TimeStamp\"] = pd.to_datetime(df_event[\"TimeStamp\"])\n",
    "    df_event = df_event.set_index(\"TimeStamp\")\n",
    "    df_event = df_event.sort_index()\n",
    "    \n",
    "    begin = pd.to_datetime(event[\"Timestamp\"])\n",
    "    end = begin + pd.Timedelta(minutes=WINDOW_SIZE_MIN)\n",
    "    \n",
    "    df_event = df_event[begin:end]\n",
    "    \n",
    "    if df_event.shape[0] == 0:\n",
    "        continue\n",
    "\n",
    "    df_event[\"axle1RawSpeed\"] /= 10\n",
    "    df_event[\"axle2RawSpeed\"] /= 10\n",
    "\n",
    "#     plot_profiles(df_event, event)\n",
    "    vid = int(event[\"VehicleID\"])\n",
    "    ts = pd.to_datetime(event[\"Timestamp\"]).strftime(\"%Y-%m-%d--%H-%M-%S%f\")\n",
    "    save_event_to_minio(df_event, event, f\"events/{vid}_{ts}.pkl\", INPUT_BUCKET_NAME, minioClient)\n",
    "    "
   ]
  },
  {
   "cell_type": "code",
   "execution_count": 14,
   "metadata": {},
   "outputs": [],
   "source": [
    "def get_dataframe_from_minio(filename):\n",
    "    try:\n",
    "        data = minioClient.get_object(INPUT_BUCKET_NAME, filename)\n",
    "    except NoSuchKey:\n",
    "        pass\n",
    "\n",
    "    data = data.read()\n",
    "    df = pd.read_csv(BytesIO(data))\n",
    "    df[\"TimeStamp\"] = pd.to_datetime(df[\"TimeStamp\"])\n",
    "    df = df.set_index(\"TimeStamp\")\n",
    "    df = df.sort_index()\n",
    "       \n",
    "    df[\"axle1RawSpeed\"] /= 10\n",
    "    df[\"axle2RawSpeed\"] /= 10\n",
    "\n",
    "    return df"
   ]
  },
  {
   "cell_type": "code",
   "execution_count": 15,
   "metadata": {},
   "outputs": [
    {
     "data": {
      "application/vnd.jupyter.widget-view+json": {
       "model_id": "06153ed4eb86441bbb1e44e95541bc58",
       "version_major": 2,
       "version_minor": 0
      },
      "text/plain": [
       "HBox(children=(IntProgress(value=0, max=729), HTML(value='')))"
      ]
     },
     "metadata": {},
     "output_type": "display_data"
    },
    {
     "name": "stdout",
     "output_type": "stream",
     "text": [
      "\n"
     ]
    }
   ],
   "source": [
    "for file_name in tqdm(all_files):\n",
    "    \n",
    "    vid = int(file_name.split(\"/\")[-1].split(\"_\")[0])\n",
    "    dt =  file_name.split(\"/\")[-1].split(\"_\")[1].strip(\".csv\")\n",
    "\n",
    "    df = get_dataframe_from_minio(file_name)        \n",
    "\n",
    "    # treating files listed in white paper (labelled)\n",
    "    if file_name in windows_files:\n",
    "        events = windows_df[(windows_df[\"VehicleID\"] == vid) & (pd.to_datetime(windows_df[\"Timestamp\"]).apply(lambda x: x.date()) == pd.to_datetime(dt))]\n",
    "\n",
    "        for _, event in events.iterrows():\n",
    "\n",
    "            begin = pd.to_datetime(event[\"Timestamp\"])\n",
    "            end = begin + pd.Timedelta(minutes=WINDOW_SIZE_MIN)\n",
    "            df = df[begin:end]\n",
    "\n",
    "            if df.shape[0] == 0:\n",
    "                continue\n",
    "\n",
    "    #         plot_profiles(df, event)\n",
    "            ts = pd.to_datetime(event[\"Timestamp\"]).strftime(\"%Y-%m-%d--%H-%M-%S%f\")\n",
    "            save_event_to_minio(df, event, f\"{OUTPUTDIRNAME}/{vid}_{ts}.pkl\", INPUT_BUCKET_NAME, minioClient)\n",
    "    \n",
    "    # treating files for nominal\n",
    "    else:\n",
    "        \n",
    "        if pd.to_datetime(dt) > pd.to_datetime(\"2020-03-31\"):\n",
    "            continue\n",
    "        \n",
    "        begin = df.index.min()\n",
    "        end = begin + pd.Timedelta(minutes=WINDOW_SIZE_MIN)\n",
    "\n",
    "        while(end < df.index.max()):\n",
    "            df_event = df[begin:end].copy()\n",
    "            ts = end.strftime(\"%Y-%m-%d--%H-%M-%S%f\")\n",
    "\n",
    "            if 0 in df_event[\"trainSpeed\"].value_counts().keys():\n",
    "                if df_event[\"trainSpeed\"].value_counts()[0]/df_event[\"trainSpeed\"].shape[0] > 0.4:\n",
    "                    begin = end\n",
    "                    end = begin + pd.Timedelta(minutes=WINDOW_SIZE_MIN)\n",
    "                    continue\n",
    "                else:\n",
    "#                     plot_profiles(df_event)\n",
    "                    save_event_to_minio(df_event, None, f\"{OUTPUTDIRNAME}/nominal/{vid}_{ts}.pkl\", INPUT_BUCKET_NAME, minioClient)\n",
    "                    begin = end\n",
    "                    end = begin + pd.Timedelta(minutes=WINDOW_SIZE_MIN)\n",
    "                    continue\n",
    "            else:\n",
    "#                 plot_profiles(df_event)\n",
    "                save_event_to_minio(df_event, None,  f\"{OUTPUTDIRNAME}/nominal/{vid}_{ts}.pkl\", INPUT_BUCKET_NAME, minioClient)\n",
    "                begin = end\n",
    "                end = begin + pd.Timedelta(minutes=WINDOW_SIZE_MIN)\n",
    "                "
   ]
  },
  {
   "cell_type": "code",
   "execution_count": null,
   "metadata": {},
   "outputs": [],
   "source": []
  }
 ],
 "metadata": {
  "kernelspec": {
   "display_name": "Python 3",
   "language": "python",
   "name": "python3"
  },
  "language_info": {
   "codemirror_mode": {
    "name": "ipython",
    "version": 3
   },
   "file_extension": ".py",
   "mimetype": "text/x-python",
   "name": "python",
   "nbconvert_exporter": "python",
   "pygments_lexer": "ipython3",
   "version": "3.6.9"
  }
 },
 "nbformat": 4,
 "nbformat_minor": 4
}
